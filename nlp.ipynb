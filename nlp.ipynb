{
 "metadata": {
  "language_info": {
   "codemirror_mode": {
    "name": "ipython",
    "version": 3
   },
   "file_extension": ".py",
   "mimetype": "text/x-python",
   "name": "python",
   "nbconvert_exporter": "python",
   "pygments_lexer": "ipython3",
   "version": "3.8.2"
  },
  "orig_nbformat": 2,
  "kernelspec": {
   "name": "python3",
   "display_name": "Python 3.8.2 64-bit ('env': venv)",
   "metadata": {
    "interpreter": {
     "hash": "e905ad718a08ed27c2c36c9ef4f1f873648da9e7705f623e5afe311501acb5e0"
    }
   }
  }
 },
 "nbformat": 4,
 "nbformat_minor": 2,
 "cells": [
  {
   "cell_type": "code",
   "execution_count": 1,
   "metadata": {},
   "outputs": [],
   "source": [
    "import re"
   ]
  },
  {
   "cell_type": "code",
   "execution_count": 10,
   "metadata": {},
   "outputs": [
    {
     "output_type": "execute_result",
     "data": {
      "text/plain": [
       "<re.Match object; span=(0, 5), match='tiger'>"
      ]
     },
     "metadata": {},
     "execution_count": 10
    }
   ],
   "source": [
    "string = \"tiger is the national animal of India\"\n",
    "pattern = \"tiger\"\n",
    "\n",
    "mo = re.match(pattern, string)\n",
    "mo"
   ]
  },
  {
   "cell_type": "code",
   "execution_count": 13,
   "metadata": {},
   "outputs": [
    {
     "output_type": "stream",
     "name": "stdout",
     "text": [
      "<re.Match object; span=(13, 21), match='national'>\nnational\n"
     ]
    }
   ],
   "source": [
    "#match only search in the starting of the sting. If there is a value in middle of the string, you have to use search\n",
    "\n",
    "pattern2 = \"national\"\n",
    "mot = re.search(pattern2, string)\n",
    "print(mot)\n",
    "\n",
    "#to see what is in the mot, you can use group(0)\n",
    "\n",
    "print(mot.group(0))"
   ]
  },
  {
   "cell_type": "code",
   "execution_count": 18,
   "metadata": {},
   "outputs": [
    {
     "output_type": "stream",
     "name": "stdout",
     "text": [
      "['national', 'national']\n"
     ]
    }
   ],
   "source": [
    "string2 = \"tiger is the national animal of India and lotus is national flower\" \n",
    "pattern3 = \"national\"\n",
    "momo = re.findall(pattern3, string2)\n",
    "print(momo)"
   ]
  },
  {
   "cell_type": "code",
   "execution_count": 20,
   "metadata": {},
   "outputs": [
    {
     "output_type": "stream",
     "name": "stdout",
     "text": [
      "13\n51\n"
     ]
    }
   ],
   "source": [
    "#if we want to know the index/place of each occurance, we use finditer\n",
    "\n",
    "momo = re.finditer(pattern3, string2)\n",
    "for m in momo:\n",
    "    print(m.start())"
   ]
  },
  {
   "cell_type": "code",
   "execution_count": null,
   "metadata": {},
   "outputs": [],
   "source": []
  }
 ]
}