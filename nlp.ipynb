{
 "metadata": {
  "language_info": {
   "codemirror_mode": {
    "name": "ipython",
    "version": 3
   },
   "file_extension": ".py",
   "mimetype": "text/x-python",
   "name": "python",
   "nbconvert_exporter": "python",
   "pygments_lexer": "ipython3",
   "version": "3.8.2"
  },
  "orig_nbformat": 2,
  "kernelspec": {
   "name": "python3",
   "display_name": "Python 3.8.2 64-bit ('env': venv)",
   "metadata": {
    "interpreter": {
     "hash": "e905ad718a08ed27c2c36c9ef4f1f873648da9e7705f623e5afe311501acb5e0"
    }
   }
  }
 },
 "nbformat": 4,
 "nbformat_minor": 2,
 "cells": [
  {
   "cell_type": "code",
   "execution_count": 1,
   "metadata": {},
   "outputs": [],
   "source": [
    "import re"
   ]
  },
  {
   "cell_type": "code",
   "execution_count": 10,
   "metadata": {},
   "outputs": [
    {
     "output_type": "execute_result",
     "data": {
      "text/plain": [
       "<re.Match object; span=(0, 5), match='tiger'>"
      ]
     },
     "metadata": {},
     "execution_count": 10
    }
   ],
   "source": [
    "string = \"tiger is the national animal of India\"\n",
    "pattern = \"tiger\"\n",
    "\n",
    "mo = re.match(pattern, string)\n",
    "mo"
   ]
  },
  {
   "cell_type": "code",
   "execution_count": 13,
   "metadata": {},
   "outputs": [
    {
     "output_type": "stream",
     "name": "stdout",
     "text": [
      "<re.Match object; span=(13, 21), match='national'>\nnational\n"
     ]
    }
   ],
   "source": [
    "#match only search in the starting of the sting. If there is a value in middle of the string, you have to use search\n",
    "\n",
    "pattern2 = \"national\"\n",
    "mot = re.search(pattern2, string)\n",
    "print(mot)\n",
    "\n",
    "#to see what is in the mot, you can use group(0)\n",
    "\n",
    "print(mot.group(0))"
   ]
  },
  {
   "cell_type": "code",
   "execution_count": 18,
   "metadata": {},
   "outputs": [
    {
     "output_type": "stream",
     "name": "stdout",
     "text": [
      "['national', 'national']\n"
     ]
    }
   ],
   "source": [
    "string2 = \"tiger is the national animal of India and lotus is national flower\" \n",
    "pattern3 = \"national\"\n",
    "momo = re.findall(pattern3, string2)\n",
    "print(momo)"
   ]
  },
  {
   "cell_type": "code",
   "execution_count": 20,
   "metadata": {},
   "outputs": [
    {
     "output_type": "stream",
     "name": "stdout",
     "text": [
      "13\n51\n"
     ]
    }
   ],
   "source": [
    "#if we want to know the index/place of each occurance, we use finditer\n",
    "\n",
    "momo = re.finditer(pattern3, string2)\n",
    "for m in momo:\n",
    "    print(m.start())"
   ]
  },
  {
   "source": [
    "# Text Preprocessing\n",
    "\n",
    "## Corpus\n",
    "Corpus -> Collection of text docs (collection of tweets, documents)\n",
    "Corpus > documents > Paragraph > Sentences > Tokens\n",
    "\n",
    "*Tokens*: Smaller units of text (word, phrases, ngrams)\n",
    "\n",
    "*Ngrams*: combination of N words/ Characters together (useful in text classification task)\n",
    "\n",
    "Sentence: I love my phone\n",
    "\n",
    "Unigram (n=1) - I, Love, my, phone\n",
    "Bigrams(n=2) - I love, love my, my phone\n",
    "Trigrams(n=3) - I love my, love my phone\n",
    "\n",
    "## Tokenization\n",
    "\n",
    "- process of splitting a text obj into smaller units (tokens)\n",
    "- Smaller Units: words, numbers, symbols, ngrams, Characters\n",
    "Techniques:\n",
    "- White space tokenizer / Unigram tokenizer\n",
    "- Regular exp tokenizer\n",
    "Eg: \"Football,Cricket;Golf Tennis\"\n",
    "re.split(r'[;,\\s]', line)\n",
    "Tokens: Football, Cricket, Golf, Tennis\n",
    "\n",
    "## Normalization\n",
    "Morpheme: base form of a word\n",
    "Structure od token: <prefix><Morpheme><suffix>\n",
    "    eg: Anitnationalist: Anti + national + ist\n",
    "\n",
    "So, Normalization is process of converting a token into its base form (morpheme)\n",
    "\n",
    "This helps reducting data dimentionality, removing duplicate, dec no. of unique values.\n",
    "\n",
    "Techniques: Stemming and Lemmatization\n",
    "\n",
    "### Stemming\n",
    "Elementary rule based process of removal of inflectional forms from a token\n",
    "Outputs the stem word. Eg: laughing, laughed, laughs >> 'laugh'\n",
    "\n",
    "This is not the best Techniques. It may generate non-meaningful terms and can change the meaning of sentence.\n",
    "\n",
    "Eg: his teams are not winning >> hi team are not winning\n",
    "\n",
    "### Lemmatization\n",
    "\n",
    "Systematic process of reducting a token to its Lemma \n",
    "Makes use of vocab, word Structure, part of speech tags and grammar relations\n",
    "\n",
    "\n"
   ],
   "cell_type": "markdown",
   "metadata": {}
  },
  {
   "cell_type": "code",
   "execution_count": 22,
   "metadata": {},
   "outputs": [
    {
     "output_type": "execute_result",
     "data": {
      "text/plain": [
       "   Unnamed: 0  X  ... isRetweet  retweeted\n",
       "0           1  1  ...      True      False\n",
       "1           2  2  ...      True      False\n",
       "2           3  3  ...      True      False\n",
       "3           4  4  ...      True      False\n",
       "4           5  5  ...      True      False\n",
       "\n",
       "[5 rows x 16 columns]"
      ],
      "text/html": "<div>\n<style scoped>\n    .dataframe tbody tr th:only-of-type {\n        vertical-align: middle;\n    }\n\n    .dataframe tbody tr th {\n        vertical-align: top;\n    }\n\n    .dataframe thead th {\n        text-align: right;\n    }\n</style>\n<table border=\"1\" class=\"dataframe\">\n  <thead>\n    <tr style=\"text-align: right;\">\n      <th></th>\n      <th>Unnamed: 0</th>\n      <th>X</th>\n      <th>text</th>\n      <th>favorited</th>\n      <th>favoriteCount</th>\n      <th>replyToSN</th>\n      <th>created</th>\n      <th>truncated</th>\n      <th>replyToSID</th>\n      <th>id</th>\n      <th>replyToUID</th>\n      <th>statusSource</th>\n      <th>screenName</th>\n      <th>retweetCount</th>\n      <th>isRetweet</th>\n      <th>retweeted</th>\n    </tr>\n  </thead>\n  <tbody>\n    <tr>\n      <th>0</th>\n      <td>1</td>\n      <td>1</td>\n      <td>RT @rssurjewala: Critical question: Was PayTM ...</td>\n      <td>False</td>\n      <td>0</td>\n      <td>NaN</td>\n      <td>2016-11-23 18:40:30</td>\n      <td>False</td>\n      <td>NaN</td>\n      <td>8.014957e+17</td>\n      <td>NaN</td>\n      <td>&lt;a href=\"http://twitter.com/download/android\" ...</td>\n      <td>HASHTAGFARZIWAL</td>\n      <td>331</td>\n      <td>True</td>\n      <td>False</td>\n    </tr>\n    <tr>\n      <th>1</th>\n      <td>2</td>\n      <td>2</td>\n      <td>RT @Hemant_80: Did you vote on #Demonetization...</td>\n      <td>False</td>\n      <td>0</td>\n      <td>NaN</td>\n      <td>2016-11-23 18:40:29</td>\n      <td>False</td>\n      <td>NaN</td>\n      <td>8.014957e+17</td>\n      <td>NaN</td>\n      <td>&lt;a href=\"http://twitter.com/download/android\" ...</td>\n      <td>PRAMODKAUSHIK9</td>\n      <td>66</td>\n      <td>True</td>\n      <td>False</td>\n    </tr>\n    <tr>\n      <th>2</th>\n      <td>3</td>\n      <td>3</td>\n      <td>RT @roshankar: Former FinSec, RBI Dy Governor,...</td>\n      <td>False</td>\n      <td>0</td>\n      <td>NaN</td>\n      <td>2016-11-23 18:40:03</td>\n      <td>False</td>\n      <td>NaN</td>\n      <td>8.014955e+17</td>\n      <td>NaN</td>\n      <td>&lt;a href=\"http://twitter.com/download/android\" ...</td>\n      <td>rahulja13034944</td>\n      <td>12</td>\n      <td>True</td>\n      <td>False</td>\n    </tr>\n    <tr>\n      <th>3</th>\n      <td>4</td>\n      <td>4</td>\n      <td>RT @ANI_news: Gurugram (Haryana): Post office ...</td>\n      <td>False</td>\n      <td>0</td>\n      <td>NaN</td>\n      <td>2016-11-23 18:39:59</td>\n      <td>False</td>\n      <td>NaN</td>\n      <td>8.014955e+17</td>\n      <td>NaN</td>\n      <td>&lt;a href=\"http://twitter.com/download/android\" ...</td>\n      <td>deeptiyvd</td>\n      <td>338</td>\n      <td>True</td>\n      <td>False</td>\n    </tr>\n    <tr>\n      <th>4</th>\n      <td>5</td>\n      <td>5</td>\n      <td>RT @satishacharya: Reddy Wedding! @mail_today ...</td>\n      <td>False</td>\n      <td>0</td>\n      <td>NaN</td>\n      <td>2016-11-23 18:39:39</td>\n      <td>False</td>\n      <td>NaN</td>\n      <td>8.014954e+17</td>\n      <td>NaN</td>\n      <td>&lt;a href=\"http://cpimharyana.com\" rel=\"nofollow...</td>\n      <td>CPIMBadli</td>\n      <td>120</td>\n      <td>True</td>\n      <td>False</td>\n    </tr>\n  </tbody>\n</table>\n</div>"
     },
     "metadata": {},
     "execution_count": 22
    }
   ],
   "source": [
    "import pandas as pd\n",
    "\n",
    "dataset = pd.read_csv('tweets.csv', encoding=\"ISO-8859-1\")\n",
    "\n",
    "dataset.head()"
   ]
  },
  {
   "cell_type": "code",
   "execution_count": null,
   "metadata": {},
   "outputs": [],
   "source": [
    "#Generate word frequency\n",
    "\n"
   ]
  }
 ]
}